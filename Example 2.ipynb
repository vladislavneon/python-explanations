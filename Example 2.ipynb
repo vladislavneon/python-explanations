{
 "cells": [
  {
   "cell_type": "markdown",
   "metadata": {},
   "source": [
    "Поймем, как примерно устроены декораторы `@classmethod` и `@staticmethod`."
   ]
  },
  {
   "cell_type": "code",
   "execution_count": 10,
   "metadata": {},
   "outputs": [],
   "source": [
    "class WithClassMethod():\n",
    "    def __init__(self):\n",
    "        pass\n",
    "\n",
    "    def usual_method(self):\n",
    "        print('usual:')\n",
    "        print(self)\n",
    "\n",
    "    def plain_class_method(arg):\n",
    "        print(f'plain class {arg}')\n",
    "\n",
    "    @classmethod\n",
    "    def class_method(cls):\n",
    "        print('class:')\n",
    "        print(cls)\n",
    "\n",
    "    @staticmethod\n",
    "    def static_method():\n",
    "        print('static')\n",
    "        \n",
    "wcm = WithClassMethod()"
   ]
  },
  {
   "cell_type": "code",
   "execution_count": 8,
   "metadata": {},
   "outputs": [
    {
     "name": "stdout",
     "output_type": "stream",
     "text": [
      "{'__module__': '__main__', '__init__': <function WithClassMethod.__init__ at 0x108a142f0>, 'usual_method': <function WithClassMethod.usual_method at 0x108a14378>, 'plain_class_method': <function WithClassMethod.plain_class_method at 0x108a140d0>, 'class_method': <classmethod object at 0x108a2d828>, 'static_method': <staticmethod object at 0x108a2d860>, '__dict__': <attribute '__dict__' of 'WithClassMethod' objects>, '__weakref__': <attribute '__weakref__' of 'WithClassMethod' objects>, '__doc__': None}\n"
     ]
    }
   ],
   "source": [
    "print(WithClassMethod.__dict__)"
   ]
  },
  {
   "cell_type": "code",
   "execution_count": 7,
   "metadata": {},
   "outputs": [
    {
     "name": "stdout",
     "output_type": "stream",
     "text": [
      "<bound method WithClassMethod.usual_method of <__main__.WithClassMethod object at 0x108a2d780>>\n",
      "<function WithClassMethod.usual_method at 0x108a14378>\n",
      "usual:\n",
      "<__main__.WithClassMethod object at 0x108a2d780>\n"
     ]
    },
    {
     "ename": "TypeError",
     "evalue": "usual_method() missing 1 required positional argument: 'self'",
     "output_type": "error",
     "traceback": [
      "\u001b[0;31m---------------------------------------------------------------------------\u001b[0m",
      "\u001b[0;31mTypeError\u001b[0m                                 Traceback (most recent call last)",
      "\u001b[0;32m<ipython-input-7-7a7bcb3a5e89>\u001b[0m in \u001b[0;36m<module>\u001b[0;34m\u001b[0m\n\u001b[1;32m      2\u001b[0m \u001b[0mprint\u001b[0m\u001b[0;34m(\u001b[0m\u001b[0mWithClassMethod\u001b[0m\u001b[0;34m.\u001b[0m\u001b[0musual_method\u001b[0m\u001b[0;34m)\u001b[0m\u001b[0;34m\u001b[0m\u001b[0;34m\u001b[0m\u001b[0m\n\u001b[1;32m      3\u001b[0m \u001b[0mwcm\u001b[0m\u001b[0;34m.\u001b[0m\u001b[0musual_method\u001b[0m\u001b[0;34m(\u001b[0m\u001b[0;34m)\u001b[0m\u001b[0;34m\u001b[0m\u001b[0;34m\u001b[0m\u001b[0m\n\u001b[0;32m----> 4\u001b[0;31m \u001b[0mWithClassMethod\u001b[0m\u001b[0;34m.\u001b[0m\u001b[0musual_method\u001b[0m\u001b[0;34m(\u001b[0m\u001b[0;34m)\u001b[0m\u001b[0;34m\u001b[0m\u001b[0;34m\u001b[0m\u001b[0m\n\u001b[0m",
      "\u001b[0;31mTypeError\u001b[0m: usual_method() missing 1 required positional argument: 'self'"
     ]
    }
   ],
   "source": [
    "print(wcm.usual_method)\n",
    "print(WithClassMethod.usual_method)\n",
    "wcm.usual_method()\n",
    "WithClassMethod.usual_method()"
   ]
  },
  {
   "cell_type": "markdown",
   "metadata": {},
   "source": [
    "Видим, что для инстанса `usual_method` - это связанный метод, который находится в класс-объекте, и в который первым аргументом передается инстанс. А для класс-объекта это просто функция, которая лежит в его словаре. Поэтому вызвать ее без параметров мы не можем."
   ]
  },
  {
   "cell_type": "code",
   "execution_count": 15,
   "metadata": {},
   "outputs": [
    {
     "name": "stdout",
     "output_type": "stream",
     "text": [
      "plain class 10\n"
     ]
    },
    {
     "ename": "TypeError",
     "evalue": "plain_class_method() takes 1 positional argument but 2 were given",
     "output_type": "error",
     "traceback": [
      "\u001b[0;31m---------------------------------------------------------------------------\u001b[0m",
      "\u001b[0;31mTypeError\u001b[0m                                 Traceback (most recent call last)",
      "\u001b[0;32m<ipython-input-15-57fe94c5455d>\u001b[0m in \u001b[0;36m<module>\u001b[0;34m\u001b[0m\n\u001b[1;32m      1\u001b[0m \u001b[0mWithClassMethod\u001b[0m\u001b[0;34m.\u001b[0m\u001b[0mplain_class_method\u001b[0m\u001b[0;34m(\u001b[0m\u001b[0;36m10\u001b[0m\u001b[0;34m)\u001b[0m\u001b[0;34m\u001b[0m\u001b[0;34m\u001b[0m\u001b[0m\n\u001b[0;32m----> 2\u001b[0;31m \u001b[0mwcm\u001b[0m\u001b[0;34m.\u001b[0m\u001b[0mplain_class_method\u001b[0m\u001b[0;34m(\u001b[0m\u001b[0;36m10\u001b[0m\u001b[0;34m)\u001b[0m\u001b[0;34m\u001b[0m\u001b[0;34m\u001b[0m\u001b[0m\n\u001b[0m",
      "\u001b[0;31mTypeError\u001b[0m: plain_class_method() takes 1 positional argument but 2 were given"
     ]
    }
   ],
   "source": [
    "WithClassMethod.plain_class_method(10)\n",
    "wcm.plain_class_method(10)"
   ]
  },
  {
   "cell_type": "markdown",
   "metadata": {},
   "source": [
    "Раньше мы создавали статические методы класса, не указывая первым аргументом `self`. Теперь мы действительно не можем вызвать такой метод у инстанса с теми же аргументами, но он до сих пор связан с инстансом! И ничто не помешает нам передать в вызов на 1 аргумент меньше, таким образом, неявно отдав `self` первым аргументом и что-нибудь сломав внутри функции:"
   ]
  },
  {
   "cell_type": "code",
   "execution_count": 17,
   "metadata": {},
   "outputs": [
    {
     "name": "stdout",
     "output_type": "stream",
     "text": [
      "<bound method WithClassMethod.plain_class_method of <__main__.WithClassMethod object at 0x108a2f898>>\n",
      "plain class <__main__.WithClassMethod object at 0x108a2f898>\n"
     ]
    }
   ],
   "source": [
    "print(wcm.plain_class_method)\n",
    "wcm.plain_class_method()"
   ]
  },
  {
   "cell_type": "markdown",
   "metadata": {},
   "source": [
    "Теперь посмотрим, что для нас сделает `@classmethod`:"
   ]
  },
  {
   "cell_type": "code",
   "execution_count": 20,
   "metadata": {},
   "outputs": [
    {
     "name": "stdout",
     "output_type": "stream",
     "text": [
      "<bound method WithClassMethod.class_method of <class '__main__.WithClassMethod'>>\n",
      "<bound method WithClassMethod.class_method of <class '__main__.WithClassMethod'>>\n",
      "class:\n",
      "<class '__main__.WithClassMethod'>\n",
      "class:\n",
      "<class '__main__.WithClassMethod'>\n"
     ]
    }
   ],
   "source": [
    "print(WithClassMethod.class_method)\n",
    "print(wcm.class_method)\n",
    "WithClassMethod.class_method()\n",
    "wcm.class_method()"
   ]
  },
  {
   "cell_type": "markdown",
   "metadata": {},
   "source": [
    "Теперь наш метод `class_method` не просто функция в классе, а связанный с классом метод. Это означает, что при вызове такого метода первым аргументом туда неявно передается уже не инстанс, а сам класс-объект, причем поведение не зависит от того, вызвали мы этот метод у инстанса или у самого класс-объекта. Но что тогда лежит в словаре класса?"
   ]
  },
  {
   "cell_type": "code",
   "execution_count": 39,
   "metadata": {},
   "outputs": [
    {
     "name": "stdout",
     "output_type": "stream",
     "text": [
      "<classmethod object at 0x108a32160>\n",
      "__get__ : <slot wrapper '__get__' of 'classmethod' objects>\n",
      "__init__ : <slot wrapper '__init__' of 'classmethod' objects>\n",
      "__new__ : <built-in method __new__ of type object at 0x106242840>\n",
      "__func__ : <member '__func__' of 'classmethod' objects>\n",
      "__isabstractmethod__ : <attribute '__isabstractmethod__' of 'classmethod' objects>\n",
      "__dict__ : <attribute '__dict__' of 'classmethod' objects>\n",
      "__doc__ : classmethod(function) -> method\n",
      "\n",
      "Convert a function to be a class method.\n",
      "\n",
      "A class method receives the class as implicit first argument,\n",
      "just like an instance method receives the instance.\n",
      "To declare a class method, use this idiom:\n",
      "\n",
      "  class C:\n",
      "      @classmethod\n",
      "      def f(cls, arg1, arg2, ...):\n",
      "          ...\n",
      "\n",
      "It can be called either on the class (e.g. C.f()) or on an instance\n",
      "(e.g. C().f()).  The instance is ignored except for its class.\n",
      "If a class method is called for a derived class, the derived class\n",
      "object is passed as the implied first argument.\n",
      "\n",
      "Class methods are different than C++ or Java static methods.\n",
      "If you want those, see the staticmethod builtin.\n"
     ]
    }
   ],
   "source": [
    "obj = WithClassMethod.__dict__['class_method']\n",
    "print(obj)\n",
    "for k, v in obj.__class__.__dict__.items():\n",
    "    print(f'{k} : {v}')"
   ]
  },
  {
   "cell_type": "markdown",
   "metadata": {},
   "source": [
    "Оказывается, какой-то странный объект класса `classmethod`, который возвращает декоратор `@classmethod`. Здесь: https://docs.python.org/3/howto/descriptor.html#static-methods-and-class-methods есть немного подробностей, но если вкратце, то функция `classmethod()`  реализована на C, но для нее можно сконструировать python-аналог с помощью механизма дескрипторов. Она будет делать примерно следующее: принимать объект, и если он является классом, то передавать этот класс первым аргументом, а если он является чистым инстансом, то возьмет у него `type`."
   ]
  },
  {
   "cell_type": "markdown",
   "metadata": {},
   "source": [
    "Как написано выше в документации, `classmethod` это не статический метод в общепринятом смысле. Для устройства такого метода рекомендуют использовать `staticmethod`, который аналогичен `classmethod` за тем исключением, что не имеет неявных аргументов. Такой статический метод до сих пор может быть вызван как от класс-объекта, так и от инстанса, но не может конструировать инстансов класса внутри себя."
   ]
  },
  {
   "cell_type": "code",
   "execution_count": 46,
   "metadata": {},
   "outputs": [
    {
     "name": "stdout",
     "output_type": "stream",
     "text": [
      "static\n",
      "static\n"
     ]
    }
   ],
   "source": [
    "WithClassMethod.static_method()\n",
    "wcm.static_method()"
   ]
  },
  {
   "cell_type": "markdown",
   "metadata": {},
   "source": [
    "Отсутствие неявной передачи видно и по тому, что этот метод ни связан ни с каким объектом, а является просто некоторой функцией (хотя и до сих пор является объектом класса `staticmethod`):"
   ]
  },
  {
   "cell_type": "code",
   "execution_count": 45,
   "metadata": {},
   "outputs": [
    {
     "name": "stdout",
     "output_type": "stream",
     "text": [
      "<function WithClassMethod.static_method at 0x108aa0b70>\n",
      "<function WithClassMethod.static_method at 0x108aa0b70>\n",
      "<staticmethod object at 0x108a32550>\n"
     ]
    }
   ],
   "source": [
    "print(WithClassMethod.static_method)\n",
    "print(wcm.static_method)\n",
    "print(WithClassMethod.__dict__['static_method'])"
   ]
  },
  {
   "cell_type": "markdown",
   "metadata": {},
   "source": [
    "Теперь перенесем те же концепции на уровень метаклассов:"
   ]
  },
  {
   "cell_type": "code",
   "execution_count": 47,
   "metadata": {},
   "outputs": [],
   "source": [
    "class Meta(type):\n",
    "    X = [1, 2, 3]\n",
    "\n",
    "    def some_method(cls):\n",
    "        print(cls)\n",
    "        return \"foobar\"\n",
    "\n",
    "    @classmethod\n",
    "    def bar_only(cls):\n",
    "        print(cls)\n",
    "        return \"bar\""
   ]
  },
  {
   "cell_type": "code",
   "execution_count": 48,
   "metadata": {},
   "outputs": [],
   "source": [
    "class Example(metaclass=Meta):\n",
    "    def __init__(self):\n",
    "        pass"
   ]
  },
  {
   "cell_type": "code",
   "execution_count": 49,
   "metadata": {},
   "outputs": [
    {
     "name": "stdout",
     "output_type": "stream",
     "text": [
      "<bound method Meta.some_method of <class '__main__.Example'>>\n",
      "[1, 2, 3]\n",
      "<bound method Meta.bar_only of <class '__main__.Meta'>>\n"
     ]
    }
   ],
   "source": [
    "print(Example.some_method)\n",
    "print(Example.X)\n",
    "print(Example.bar_only)"
   ]
  },
  {
   "cell_type": "markdown",
   "metadata": {},
   "source": [
    "Теперь можно думать о класс-объекте `Example` как об инстансе, а метаклассе `Meta` как его классе. Тогда мы наблюдаем ту же самую картину - обычный метод `some_method` связан с инстансом, а метод класса `bar_only` связан с самим классом, которым в данном случае является `Meta`."
   ]
  },
  {
   "cell_type": "markdown",
   "metadata": {},
   "source": [
    "Можно заметить, что раньше обычные методы принимали первым аргументом `self`, а класс-методы `cls`, а теперь что-то как будто изменилось. На самом деле все осталось попрежнему, только в обычных методах мы поменяли имя `self` на `cls` в силу работы метакласса, для которого `self` на самом деле будет являться класс-объектом. Вспомним, что мы думаем об `Example` как об инстансе и посмотрим на такие вызовы:"
   ]
  },
  {
   "cell_type": "code",
   "execution_count": 54,
   "metadata": {},
   "outputs": [
    {
     "name": "stdout",
     "output_type": "stream",
     "text": [
      "<class '__main__.Meta'>\n",
      "<class '__main__.Example'>\n",
      "<class '__main__.Meta'>\n"
     ]
    },
    {
     "ename": "TypeError",
     "evalue": "some_method() missing 1 required positional argument: 'cls'",
     "output_type": "error",
     "traceback": [
      "\u001b[0;31m---------------------------------------------------------------------------\u001b[0m",
      "\u001b[0;31mTypeError\u001b[0m                                 Traceback (most recent call last)",
      "\u001b[0;32m<ipython-input-54-67ae7f7bc670>\u001b[0m in \u001b[0;36m<module>\u001b[0;34m\u001b[0m\n\u001b[1;32m      2\u001b[0m \u001b[0mExample\u001b[0m\u001b[0;34m.\u001b[0m\u001b[0msome_method\u001b[0m\u001b[0;34m(\u001b[0m\u001b[0;34m)\u001b[0m\u001b[0;34m\u001b[0m\u001b[0;34m\u001b[0m\u001b[0m\n\u001b[1;32m      3\u001b[0m \u001b[0mMeta\u001b[0m\u001b[0;34m.\u001b[0m\u001b[0mbar_only\u001b[0m\u001b[0;34m(\u001b[0m\u001b[0;34m)\u001b[0m\u001b[0;34m\u001b[0m\u001b[0;34m\u001b[0m\u001b[0m\n\u001b[0;32m----> 4\u001b[0;31m \u001b[0mMeta\u001b[0m\u001b[0;34m.\u001b[0m\u001b[0msome_method\u001b[0m\u001b[0;34m(\u001b[0m\u001b[0;34m)\u001b[0m\u001b[0;34m\u001b[0m\u001b[0;34m\u001b[0m\u001b[0m\n\u001b[0m",
      "\u001b[0;31mTypeError\u001b[0m: some_method() missing 1 required positional argument: 'cls'"
     ]
    }
   ],
   "source": [
    "Example.bar_only()\n",
    "Example.some_method()\n",
    "Meta.bar_only()\n",
    "Meta.some_method()"
   ]
  },
  {
   "cell_type": "markdown",
   "metadata": {},
   "source": [
    "Видно, что мы все так же не можем вызвать обычный метод у класс-объекта (в данном случае метакласса) без параметров, а в вызов у инстанса (в данном случае класс-объекта `Example`) происходит с неявной передачей этого инстанса."
   ]
  }
 ],
 "metadata": {
  "kernelspec": {
   "display_name": "Python 3",
   "language": "python",
   "name": "python3"
  },
  "language_info": {
   "codemirror_mode": {
    "name": "ipython",
    "version": 3
   },
   "file_extension": ".py",
   "mimetype": "text/x-python",
   "name": "python",
   "nbconvert_exporter": "python",
   "pygments_lexer": "ipython3",
   "version": "3.7.1"
  }
 },
 "nbformat": 4,
 "nbformat_minor": 2
}
