{
 "cells": [
  {
   "cell_type": "code",
   "execution_count": 1,
   "metadata": {},
   "outputs": [],
   "source": [
    "class Meta(type):\n",
    "    def __init__(cls, name, base, attrs):\n",
    "        print(f\"Meta __init__ arguments {cls} {base} {attrs}\")\n",
    "        super().__init__(name, base, attrs)\n",
    "\n",
    "    def __new__(cls, name, base, attrs):\n",
    "        print(f\"Meta __new__ arguments: {cls} {base} {attrs}\")\n",
    "        self = super().__new__(cls, name, base, attrs)\n",
    "        print(f\"Meta __new__ created obj: {self}\")\n",
    "        return self\n",
    "\n",
    "    def __call__(cls, *args):\n",
    "        print(f\"Meta __call__ {cls} {args}\")\n",
    "        call__ = super().__call__(*args)\n",
    "        return call__"
   ]
  },
  {
   "cell_type": "code",
   "execution_count": 6,
   "metadata": {},
   "outputs": [
    {
     "name": "stdout",
     "output_type": "stream",
     "text": [
      "Meta __new__ arguments: <class '__main__.Meta'> () {'__module__': '__main__', '__qualname__': 'Example', '__new__': <function Example.__new__ at 0x109ee99d8>, '__init__': <function Example.__init__ at 0x109ee96a8>, '__classcell__': <cell at 0x109ec4828: empty>}\n",
      "Meta __new__ created obj: <class '__main__.Example'>\n",
      "Meta __init__ arguments <class '__main__.Example'> () {'__module__': '__main__', '__qualname__': 'Example', '__new__': <function Example.__new__ at 0x109ee99d8>, '__init__': <function Example.__init__ at 0x109ee96a8>, '__classcell__': <cell at 0x109ec4828: Meta object at 0x7fe61c084548>}\n"
     ]
    }
   ],
   "source": [
    "class Example(metaclass=Meta):\n",
    "\n",
    "    def __new__(cls, *args):\n",
    "        print(f'Example __new__ arguments: {cls} {args}')\n",
    "        return super().__new__(cls)\n",
    "\n",
    "    def __init__(self, test_field):\n",
    "        self.field = test_field\n",
    "        print(f\"Example __init__ with field {test_field}\")"
   ]
  },
  {
   "cell_type": "markdown",
   "metadata": {},
   "source": [
    "`__new__` принимает класс и аргументы, переданные в \"конструктор\". Так как мы потом вызываем `object.__new__()`, то мы забиваем на аргументы и передаем только класс"
   ]
  },
  {
   "cell_type": "code",
   "execution_count": 7,
   "metadata": {},
   "outputs": [
    {
     "name": "stdout",
     "output_type": "stream",
     "text": [
      "Meta __call__ <class '__main__.Example'> (10,)\n",
      "Example __new__ arguments: <class '__main__.Example'> (10,)\n",
      "Example __init__ with field 10\n"
     ]
    }
   ],
   "source": [
    "a = Example(10)"
   ]
  }
 ],
 "metadata": {
  "kernelspec": {
   "display_name": "Python 3",
   "language": "python",
   "name": "python3"
  },
  "language_info": {
   "codemirror_mode": {
    "name": "ipython",
    "version": 3
   },
   "file_extension": ".py",
   "mimetype": "text/x-python",
   "name": "python",
   "nbconvert_exporter": "python",
   "pygments_lexer": "ipython3",
   "version": "3.7.1"
  }
 },
 "nbformat": 4,
 "nbformat_minor": 2
}
